{
 "cells": [
  {
   "cell_type": "markdown",
   "metadata": {},
   "source": [
    "# Vectors"
   ]
  },
  {
   "cell_type": "code",
   "execution_count": 1,
   "metadata": {
    "scrolled": true
   },
   "outputs": [
    {
     "name": "stdout",
     "output_type": "stream",
     "text": [
      "Version of sympy: \t1.6.1\n",
      "Version of matplotlib: \t3.3.0\n",
      "Version of numpy: \t1.19.1\n"
     ]
    }
   ],
   "source": [
    "import sympy\n",
    "import matplotlib\n",
    "import matplotlib.pyplot as plt\n",
    "import numpy as np\n",
    "import matplotlib.cm as cm\n",
    "my_cmap = cm.Pastel2\n",
    "\n",
    "# Versions: So you know which documentation to look at\n",
    "print(\"Version of sympy: \\t\" + str(sympy.__version__)) \n",
    "print(\"Version of matplotlib: \\t\" + str(matplotlib.__version__)) \n",
    "print(\"Version of numpy: \\t\" + str(np.__version__))\n",
    "\n",
    "# Make things from sympy print nicely.\n",
    "sympy.init_printing() \n",
    "\n",
    "# Output of this cell may change depending on which computer you run it on."
   ]
  },
  {
   "cell_type": "code",
   "execution_count": 2,
   "metadata": {},
   "outputs": [
    {
     "data": {
      "image/png": "[encoded data removed]",
      "text/latex": [
       "$\\displaystyle (3)\\mathbf{\\hat{i}_{N}} + (4)\\mathbf{\\hat{j}_{N}}$"
      ],
      "text/plain": [
       "3*N.i + 4*N.j"
      ]
     },
     "execution_count": 2,
     "metadata": {},
     "output_type": "execute_result"
    }
   ],
   "source": [
    "from sympy.vector import CoordSys3D\n",
    "# Create our coordinate system, call it N.\n",
    "N = CoordSys3D('N') \n",
    "\n",
    "# Make a vector\n",
    "v1 = 3*N.i + 4*N.j\n",
    "# Print it out\n",
    "v1"
   ]
  },
  {
   "cell_type": "markdown",
   "metadata": {},
   "source": [
    "## Find the magnitude of the vector\n",
    "\n",
    "$$\n",
    "    \\| \\mathbf{v} \\| = \\sqrt{ v^2_1 + v^2_2 + \\ldots + v^2_n}\n",
    "$$"
   ]
  },
  {
   "cell_type": "code",
   "execution_count": 3,
   "metadata": {},
   "outputs": [
    {
     "data": {
      "image/png": "[encoded data removed]",
      "text/latex": [
       "$\\displaystyle 5$"
      ],
      "text/plain": [
       "5"
      ]
     },
     "execution_count": 3,
     "metadata": {},
     "output_type": "execute_result"
    }
   ],
   "source": [
    "v1.magnitude()"
   ]
  },
  {
   "cell_type": "markdown",
   "metadata": {},
   "source": [
    "## Finding the unit-vector\n",
    "\n",
    "$$\n",
    "    \\hat{\\mathbf{v}} = \\frac{\\mathbf{v}}{\\| \\mathbf{v} \\|}\n",
    "$$"
   ]
  },
  {
   "cell_type": "code",
   "execution_count": 4,
   "metadata": {},
   "outputs": [
    {
     "data": {
      "image/png": "[encoded data removed]",
      "text/latex": [
       "$\\displaystyle (\\frac{3}{5})\\mathbf{\\hat{i}_{N}} + (\\frac{4}{5})\\mathbf{\\hat{j}_{N}}$"
      ],
      "text/plain": [
       "3/5*N.i + 4/5*N.j"
      ]
     },
     "execution_count": 4,
     "metadata": {},
     "output_type": "execute_result"
    }
   ],
   "source": [
    "v_hat = v1 / v1.magnitude()\n",
    "v_hat"
   ]
  },
  {
   "cell_type": "markdown",
   "metadata": {},
   "source": [
    "This is also called 'normalising' and can be done using the `normalize()` method."
   ]
  },
  {
   "cell_type": "code",
   "execution_count": 5,
   "metadata": {},
   "outputs": [
    {
     "data": {
      "image/png": "[encoded data removed]",
      "text/latex": [
       "$\\displaystyle (\\frac{3}{5})\\mathbf{\\hat{i}_{N}} + (\\frac{4}{5})\\mathbf{\\hat{j}_{N}}$"
      ],
      "text/plain": [
       "3/5*N.i + 4/5*N.j"
      ]
     },
     "execution_count": 5,
     "metadata": {},
     "output_type": "execute_result"
    }
   ],
   "source": [
    "v_normalised = v1.normalize()\n",
    "v_normalised"
   ]
  },
  {
   "cell_type": "markdown",
   "metadata": {},
   "source": [
    "You can even use python to check that they are the same:"
   ]
  },
  {
   "cell_type": "code",
   "execution_count": 6,
   "metadata": {},
   "outputs": [
    {
     "name": "stdout",
     "output_type": "stream",
     "text": [
      "They're the same!\n"
     ]
    }
   ],
   "source": [
    "if v_normalised == v_hat:\n",
    "    print(\"They're the same!\")\n",
    "else:\n",
    "    print(\"They're NOT the same!\")"
   ]
  },
  {
   "cell_type": "code",
   "execution_count": 7,
   "metadata": {},
   "outputs": [
    {
     "data": {
      "image/png": "[encoded data removed]",
      "text/latex": [
       "$\\displaystyle 3$"
      ],
      "text/plain": [
       "3"
      ]
     },
     "execution_count": 7,
     "metadata": {},
     "output_type": "execute_result"
    }
   ],
   "source": [
    "(v1.components)[N.i]"
   ]
  },
  {
   "cell_type": "markdown",
   "metadata": {},
   "source": [
    "### Function to plot vectors at origin in 2D"
   ]
  },
  {
   "cell_type": "code",
   "execution_count": 8,
   "metadata": {},
   "outputs": [],
   "source": [
    "\"\"\"\n",
    "Takes in a list of vectors and plots them on a 2D cartesian plane with starting points at the origin.\n",
    "Colour will be different for each vector.\n",
    "\"\"\"\n",
    "def plot_vecs_2D(v_list):\n",
    "    x = [int(vec.components[N.i]) for vec in v_list]\n",
    "    y = [int(vec.components[N.j]) for vec in v_list]\n",
    "    x_pos = [0 for el in x]\n",
    "    y_pos = [0 for el in y]\n",
    "    # soa = np.array([[0, 0, 3, 2], [0, 0, 1, 1], [0, 0, 9, 9]])\n",
    "    # X, Y, U, V = zip(*soa) # unzipping\n",
    "    plt.figure()\n",
    "    ax = plt.gca()\n",
    "    colours = np.linspace(1,2,len(x))\n",
    "    ax.quiver(x_pos, y_pos, x, y, [colours], angles='xy', scale_units='xy', scale=1, cmap=my_cmap)\n",
    "    lower_x = min([0, 1.2*min(x)])\n",
    "    lower_y = min([0, 1.2*min(y)])\n",
    "    upper_x = max([10, 1.2*max(x)])\n",
    "    upper_y = max([10, 1.2*max(y)])\n",
    "    ax.set_xlim([lower_x, upper_x])\n",
    "    ax.set_ylim([lower_y, upper_y])\n",
    "    plt.xlabel(\"$x$-component\")\n",
    "    plt.ylabel(\"$y$-component\")\n",
    "    plt.grid()\n",
    "    plt.show()"
   ]
  },
  {
   "cell_type": "code",
   "execution_count": 9,
   "metadata": {
    "scrolled": true
   },
   "outputs": [
    {
     "data": {
      "image/png": "[encoded data removed]",
      "text/plain": [
       "<Figure size 432x288 with 1 Axes>"
      ]
     },
     "metadata": {
      "needs_background": "light"
     },
     "output_type": "display_data"
    }
   ],
   "source": [
    "v2 = -5*N.i + -7*N.j\n",
    "v3 = 6*N.i + -100*N.j\n",
    "v4 = -1 * v3\n",
    "plot_vecs_2D([v1, v2,v3, v4])"
   ]
  },
  {
   "cell_type": "markdown",
   "metadata": {},
   "source": [
    "## Graphically proving the parallelogram law"
   ]
  },
  {
   "cell_type": "code",
   "execution_count": 10,
   "metadata": {},
   "outputs": [],
   "source": [
    "\"\"\"\n",
    "Pass in two vectors, 2D..\n",
    "\"\"\"\n",
    "def parallelogram_law(v_1, v_2):\n",
    "    x =    [float(v1.components[N.i]),\n",
    "            float(v2.components[N.i]),\n",
    "            float(v1.components[N.i]),\n",
    "            float(v2.components[N.i])]\n",
    "    y =    [float(v1.components[N.j]),\n",
    "            float(v2.components[N.j]),\n",
    "            float(v1.components[N.j]),\n",
    "            float(v2.components[N.j])]\n",
    "    x_pos = [0,0,float(v2.components[N.i]),float(v1.components[N.i])]\n",
    "    y_pos = [0,0,float(v2.components[N.j]),float(v1.components[N.j])]\n",
    "    # soa = np.array([[0, 0, 3, 2], [0, 0, 1, 1], [0, 0, 9, 9]])\n",
    "    # X, Y, U, V = zip(*soa) # unzipping\n",
    "    plt.figure()\n",
    "    ax = plt.gca()\n",
    "    \n",
    "    ax.quiver(x_pos, y_pos, x, y, [1,2,1,2], angles='xy', scale_units='xy', scale=1, cmap=my_cmap)\n",
    "    lower_x = min([0,  1.2 * (v1.components[N.i]+v2.components[N.i]) ])\n",
    "    lower_y = min([0,  1.2 * (v1.components[N.j]+v2.components[N.j]) ])\n",
    "    upper_x = max([10, 1.2 * (v1.components[N.i]+v2.components[N.i]) ])\n",
    "    upper_y = max([10, 1.2 * (v1.components[N.j]+v2.components[N.j]) ])\n",
    "    print(lower_x, lower_y, upper_x, upper_y)\n",
    "    ax.set_xlim([int(lower_x), int(upper_x)])\n",
    "    ax.set_ylim([int(lower_y), int(upper_y)])\n",
    "    plt.xlabel(\"$x$-component\")\n",
    "    plt.ylabel(\"$y$-component\")\n",
    "    plt.grid()\n",
    "    plt.show()"
   ]
  },
  {
   "cell_type": "code",
   "execution_count": 11,
   "metadata": {
    "scrolled": false
   },
   "outputs": [
    {
     "name": "stdout",
     "output_type": "stream",
     "text": [
      "0 0 10 124.800000000000\n"
     ]
    },
    {
     "data": {
      "image/png": "[encoded data removed]",
      "text/plain": [
       "<Figure size 432x288 with 1 Axes>"
      ]
     },
     "metadata": {
      "needs_background": "light"
     },
     "output_type": "display_data"
    }
   ],
   "source": [
    "v1 = 3*N.i + 4*N.j\n",
    "v2 = 2*N.i + 100*N.j\n",
    "parallelogram_law(v1, v2)"
   ]
  },
  {
   "cell_type": "markdown",
   "metadata": {},
   "source": [
    "# Matrices"
   ]
  },
  {
   "cell_type": "code",
   "execution_count": 12,
   "metadata": {},
   "outputs": [],
   "source": [
    "from sympy import init_printing, Matrix, eye, zeros, diag, Symbol\n",
    "init_printing() # Pretty printing"
   ]
  },
  {
   "cell_type": "markdown",
   "metadata": {},
   "source": [
    "## Make a Vector"
   ]
  },
  {
   "cell_type": "code",
   "execution_count": 13,
   "metadata": {},
   "outputs": [
    {
     "data": {
      "text/latex": [
       "$\\displaystyle \\left[\\begin{matrix}1\\\\2\\\\3\\end{matrix}\\right]$"
      ],
      "text/plain": [
       "⎡1⎤\n",
       "⎢ ⎥\n",
       "⎢2⎥\n",
       "⎢ ⎥\n",
       "⎣3⎦"
      ]
     },
     "metadata": {},
     "output_type": "display_data"
    },
    {
     "data": {
      "text/latex": [
       "$\\displaystyle \\left[\\begin{matrix}4 & 5 & 6\\end{matrix}\\right]$"
      ],
      "text/plain": [
       "[4  5  6]"
      ]
     },
     "metadata": {},
     "output_type": "display_data"
    }
   ],
   "source": [
    "\n",
    "\n",
    "# Column vector\n",
    "\n",
    "\n",
    "v = Matrix([\n",
    "    [1],\n",
    "    [2],\n",
    "    [3]\n",
    "])\n",
    "\n",
    "# Row vector\n",
    "u = Matrix([    [4,5,6]  ])\n",
    "\n",
    "\n",
    "display(v, u)"
   ]
  },
  {
   "cell_type": "markdown",
   "metadata": {},
   "source": [
    "## Make a Matrix"
   ]
  },
  {
   "cell_type": "code",
   "execution_count": 14,
   "metadata": {},
   "outputs": [
    {
     "data": {
      "text/latex": [
       "$\\displaystyle \\left[\\begin{matrix}1 & 2 & 3\\\\4 & 5 & 6\\\\7 & 8 & 9\\end{matrix}\\right]$"
      ],
      "text/plain": [
       "⎡1  2  3⎤\n",
       "⎢       ⎥\n",
       "⎢4  5  6⎥\n",
       "⎢       ⎥\n",
       "⎣7  8  9⎦"
      ]
     },
     "execution_count": 14,
     "metadata": {},
     "output_type": "execute_result"
    }
   ],
   "source": [
    "A = Matrix([\n",
    "    [1,2,3],\n",
    "    [4,5,6],\n",
    "    [7,8,9]\n",
    "])\n",
    "\n",
    "A"
   ]
  },
  {
   "cell_type": "markdown",
   "metadata": {},
   "source": [
    "## Identity Matrices"
   ]
  },
  {
   "cell_type": "code",
   "execution_count": 15,
   "metadata": {},
   "outputs": [
    {
     "data": {
      "text/latex": [
       "$\\displaystyle \\left[\\begin{matrix}1 & 0\\\\0 & 1\\end{matrix}\\right]$"
      ],
      "text/plain": [
       "⎡1  0⎤\n",
       "⎢    ⎥\n",
       "⎣0  1⎦"
      ]
     },
     "execution_count": 15,
     "metadata": {},
     "output_type": "execute_result"
    }
   ],
   "source": [
    "eye(2)"
   ]
  },
  {
   "cell_type": "code",
   "execution_count": 16,
   "metadata": {},
   "outputs": [
    {
     "data": {
      "text/latex": [
       "$\\displaystyle \\left[\\begin{matrix}1 & 0 & 0 & 0 & 0\\\\0 & 1 & 0 & 0 & 0\\\\0 & 0 & 1 & 0 & 0\\\\0 & 0 & 0 & 1 & 0\\\\0 & 0 & 0 & 0 & 1\\end{matrix}\\right]$"
      ],
      "text/plain": [
       "⎡1  0  0  0  0⎤\n",
       "⎢             ⎥\n",
       "⎢0  1  0  0  0⎥\n",
       "⎢             ⎥\n",
       "⎢0  0  1  0  0⎥\n",
       "⎢             ⎥\n",
       "⎢0  0  0  1  0⎥\n",
       "⎢             ⎥\n",
       "⎣0  0  0  0  1⎦"
      ]
     },
     "execution_count": 16,
     "metadata": {},
     "output_type": "execute_result"
    }
   ],
   "source": [
    "eye(5)"
   ]
  },
  {
   "cell_type": "markdown",
   "metadata": {},
   "source": [
    "## Zero Matrices"
   ]
  },
  {
   "cell_type": "code",
   "execution_count": 17,
   "metadata": {},
   "outputs": [
    {
     "data": {
      "text/latex": [
       "$\\displaystyle \\left[\\begin{matrix}0 & 0 & 0\\\\0 & 0 & 0\\\\0 & 0 & 0\\end{matrix}\\right]$"
      ],
      "text/plain": [
       "⎡0  0  0⎤\n",
       "⎢       ⎥\n",
       "⎢0  0  0⎥\n",
       "⎢       ⎥\n",
       "⎣0  0  0⎦"
      ]
     },
     "execution_count": 17,
     "metadata": {},
     "output_type": "execute_result"
    }
   ],
   "source": [
    "zeros(3)"
   ]
  },
  {
   "cell_type": "code",
   "execution_count": 18,
   "metadata": {},
   "outputs": [
    {
     "data": {
      "text/latex": [
       "$\\displaystyle \\left[\\begin{matrix}0 & 0 & 0 & 0 & 0 & 0\\\\0 & 0 & 0 & 0 & 0 & 0\\\\0 & 0 & 0 & 0 & 0 & 0\\\\0 & 0 & 0 & 0 & 0 & 0\\\\0 & 0 & 0 & 0 & 0 & 0\\\\0 & 0 & 0 & 0 & 0 & 0\\end{matrix}\\right]$"
      ],
      "text/plain": [
       "⎡0  0  0  0  0  0⎤\n",
       "⎢                ⎥\n",
       "⎢0  0  0  0  0  0⎥\n",
       "⎢                ⎥\n",
       "⎢0  0  0  0  0  0⎥\n",
       "⎢                ⎥\n",
       "⎢0  0  0  0  0  0⎥\n",
       "⎢                ⎥\n",
       "⎢0  0  0  0  0  0⎥\n",
       "⎢                ⎥\n",
       "⎣0  0  0  0  0  0⎦"
      ]
     },
     "execution_count": 18,
     "metadata": {},
     "output_type": "execute_result"
    }
   ],
   "source": [
    "zeros(6)"
   ]
  },
  {
   "cell_type": "markdown",
   "metadata": {},
   "source": [
    "## Diagonal Matrices\n",
    "\n",
    "You can pass in a series of values that will be positioned along the diagonal of a square matrix."
   ]
  },
  {
   "cell_type": "code",
   "execution_count": 19,
   "metadata": {},
   "outputs": [
    {
     "data": {
      "text/latex": [
       "$\\displaystyle \\left[\\begin{matrix}1 & 0 & 0\\\\0 & 2 & 0\\\\0 & 0 & 3\\end{matrix}\\right]$"
      ],
      "text/plain": [
       "⎡1  0  0⎤\n",
       "⎢       ⎥\n",
       "⎢0  2  0⎥\n",
       "⎢       ⎥\n",
       "⎣0  0  3⎦"
      ]
     },
     "execution_count": 19,
     "metadata": {},
     "output_type": "execute_result"
    }
   ],
   "source": [
    "diag(1,2,3)"
   ]
  },
  {
   "cell_type": "code",
   "execution_count": 20,
   "metadata": {},
   "outputs": [
    {
     "data": {
      "text/latex": [
       "$\\displaystyle \\left[\\begin{matrix}4 & 0 & 0 & 0\\\\0 & 5 & 0 & 0\\\\0 & 0 & 6 & 0\\\\0 & 0 & 0 & 7\\end{matrix}\\right]$"
      ],
      "text/plain": [
       "⎡4  0  0  0⎤\n",
       "⎢          ⎥\n",
       "⎢0  5  0  0⎥\n",
       "⎢          ⎥\n",
       "⎢0  0  6  0⎥\n",
       "⎢          ⎥\n",
       "⎣0  0  0  7⎦"
      ]
     },
     "execution_count": 20,
     "metadata": {},
     "output_type": "execute_result"
    }
   ],
   "source": [
    "diag(4,5,6,7)"
   ]
  },
  {
   "cell_type": "code",
   "execution_count": 21,
   "metadata": {},
   "outputs": [
    {
     "data": {
      "text/latex": [
       "$\\displaystyle \\left[\\begin{matrix}3.14 & 0 & 0\\\\0 & 2.71 & 0\\\\0 & 0 & 6.626\\end{matrix}\\right]$"
      ],
      "text/plain": [
       "⎡3.14   0      0  ⎤\n",
       "⎢                 ⎥\n",
       "⎢ 0    2.71    0  ⎥\n",
       "⎢                 ⎥\n",
       "⎣ 0     0    6.626⎦"
      ]
     },
     "execution_count": 21,
     "metadata": {},
     "output_type": "execute_result"
    }
   ],
   "source": [
    "diag(3.14, 2.71, 6.626)"
   ]
  },
  {
   "cell_type": "markdown",
   "metadata": {},
   "source": [
    "## Access Rows/Columns at a Time\n",
    "\n",
    "Once you have created a `Matrix`, you can access it's rows and columns with the appropriate method for that object.\n",
    "\n",
    "There are however two caveats to indexing matrices in python. \n",
    "1. Python is 'column-major', meaning if you access a two-dimensional array you specify **column first and then row**. This is the opposite way around as the way we do it with matrices.\n",
    "2. Numbering starts from `0` in python. So what we would usually refer to as row 1, we will from here on in refer to as row 0."
   ]
  },
  {
   "cell_type": "code",
   "execution_count": 22,
   "metadata": {},
   "outputs": [
    {
     "data": {
      "text/latex": [
       "$\\displaystyle \\left[\\begin{matrix}1 & 2 & 3\\end{matrix}\\right]$"
      ],
      "text/plain": [
       "[1  2  3]"
      ]
     },
     "metadata": {},
     "output_type": "display_data"
    },
    {
     "data": {
      "text/latex": [
       "$\\displaystyle \\left[\\begin{matrix}1\\\\4\\\\7\\end{matrix}\\right]$"
      ],
      "text/plain": [
       "⎡1⎤\n",
       "⎢ ⎥\n",
       "⎢4⎥\n",
       "⎢ ⎥\n",
       "⎣7⎦"
      ]
     },
     "metadata": {},
     "output_type": "display_data"
    },
    {
     "data": {
      "image/png": "[encoded data removed]",
      "text/latex": [
       "$\\displaystyle 3$"
      ],
      "text/plain": [
       "3"
      ]
     },
     "metadata": {},
     "output_type": "display_data"
    },
    {
     "data": {
      "image/png": "[encoded data removed]",
      "text/latex": [
       "$\\displaystyle 9$"
      ],
      "text/plain": [
       "9"
      ]
     },
     "metadata": {},
     "output_type": "display_data"
    },
    {
     "data": {
      "image/png": "[encoded data removed]",
      "text/latex": [
       "$\\displaystyle 5$"
      ],
      "text/plain": [
       "5"
      ]
     },
     "metadata": {},
     "output_type": "display_data"
    }
   ],
   "source": [
    "A = Matrix([\n",
    "    [1,2,3],\n",
    "    [4,5,6],\n",
    "    [7,8,9]\n",
    "])\n",
    "\n",
    "# Row access\n",
    "display(A.row(0))\n",
    "\n",
    "# Column access\n",
    "display(A.col(0))\n",
    "\n",
    "# Element-specific indexing\n",
    "display(A[0,2]) # See, row first, then column!\n",
    "display(A[2,2])\n",
    "\n",
    "# You can also access the n-th element in the matrix if you fancy.\n",
    "display(A[4])"
   ]
  },
  {
   "cell_type": "markdown",
   "metadata": {},
   "source": [
    "## Want reduced-row-echelon-form (rref)?"
   ]
  },
  {
   "cell_type": "code",
   "execution_count": 23,
   "metadata": {
    "scrolled": true
   },
   "outputs": [
    {
     "data": {
      "text/latex": [
       "$\\displaystyle \\left( \\left[\\begin{matrix}1 & 0 & -1\\\\0 & 1 & 2\\\\0 & 0 & 0\\end{matrix}\\right], \\  \\left( 0, \\  1\\right)\\right)$"
      ],
      "text/plain": [
       "⎛⎡1  0  -1⎤        ⎞\n",
       "⎜⎢        ⎥        ⎟\n",
       "⎜⎢0  1  2 ⎥, (0, 1)⎟\n",
       "⎜⎢        ⎥        ⎟\n",
       "⎝⎣0  0  0 ⎦        ⎠"
      ]
     },
     "execution_count": 23,
     "metadata": {},
     "output_type": "execute_result"
    }
   ],
   "source": [
    "A = Matrix([\n",
    "    [1,2,3],\n",
    "    [4,5,6],\n",
    "    [7,8,9]\n",
    "])\n",
    "\n",
    "A.rref() # As simple as that!"
   ]
  },
  {
   "cell_type": "markdown",
   "metadata": {},
   "source": [
    "We can see that two elements were returned. The first is the row-reduced form of $\\mathbf{A}$, the other is a `tuple` of the columns of $\\mathbf{A}$ that contain pivots."
   ]
  },
  {
   "cell_type": "markdown",
   "metadata": {},
   "source": [
    "## Want the inverse of a matrix?"
   ]
  },
  {
   "cell_type": "code",
   "execution_count": 24,
   "metadata": {},
   "outputs": [
    {
     "data": {
      "text/latex": [
       "$\\displaystyle \\left[\\begin{matrix}\\frac{4}{11} & \\frac{5}{11} & \\frac{3}{11}\\\\\\frac{5}{11} & - \\frac{2}{11} & \\frac{1}{11}\\\\\\frac{3}{11} & \\frac{1}{11} & \\frac{5}{11}\\end{matrix}\\right]$"
      ],
      "text/plain": [
       "⎡4/11  5/11   3/11⎤\n",
       "⎢                 ⎥\n",
       "⎢5/11  -2/11  1/11⎥\n",
       "⎢                 ⎥\n",
       "⎣3/11  1/11   5/11⎦"
      ]
     },
     "execution_count": 24,
     "metadata": {},
     "output_type": "execute_result"
    }
   ],
   "source": [
    "# Resetting A (in case of unordered use of cells)\n",
    "A = Matrix([\n",
    "    [1,2,-1],\n",
    "    [2,-1,-1],\n",
    "    [-1,-1,3]\n",
    "])\n",
    "\n",
    "A.inv() # One-liner!"
   ]
  },
  {
   "cell_type": "markdown",
   "metadata": {},
   "source": [
    "## Transpose of a matrix?"
   ]
  },
  {
   "cell_type": "code",
   "execution_count": 25,
   "metadata": {},
   "outputs": [
    {
     "data": {
      "text/latex": [
       "$\\displaystyle \\left[\\begin{matrix}1 & 2 & 3\\\\4 & 5 & 6\\\\7 & 8 & 9\\end{matrix}\\right]$"
      ],
      "text/plain": [
       "⎡1  2  3⎤\n",
       "⎢       ⎥\n",
       "⎢4  5  6⎥\n",
       "⎢       ⎥\n",
       "⎣7  8  9⎦"
      ]
     },
     "metadata": {},
     "output_type": "display_data"
    },
    {
     "data": {
      "text/latex": [
       "$\\displaystyle \\left[\\begin{matrix}1 & 4 & 7\\\\2 & 5 & 8\\\\3 & 6 & 9\\end{matrix}\\right]$"
      ],
      "text/plain": [
       "⎡1  4  7⎤\n",
       "⎢       ⎥\n",
       "⎢2  5  8⎥\n",
       "⎢       ⎥\n",
       "⎣3  6  9⎦"
      ]
     },
     "metadata": {},
     "output_type": "display_data"
    }
   ],
   "source": [
    "# Resetting A (in case of unordered use of cells)\n",
    "A = Matrix([\n",
    "    [1,2,3],\n",
    "    [4,5,6],\n",
    "    [7,8,9]\n",
    "])\n",
    "\n",
    "display(A)\n",
    "display(A.T) # Note that this is an attribute and not a method (no need for parantheses to call a function)."
   ]
  },
  {
   "cell_type": "markdown",
   "metadata": {},
   "source": [
    "## Now with row-reductions:\n",
    "\n",
    "Because `sympy` has automated a lot of the matrix processes, it seems that row operations are not particularly intuitive operations for whatever reason that may be.\n",
    "\n",
    "The best way to learn this is likely to closely follow the example below and ask questions."
   ]
  },
  {
   "cell_type": "code",
   "execution_count": 26,
   "metadata": {},
   "outputs": [
    {
     "data": {
      "text/latex": [
       "$\\displaystyle \\left[\\begin{matrix}1 & 2 & -1\\\\2 & -1 & -1\\\\-1 & -1 & 3\\end{matrix}\\right]$"
      ],
      "text/plain": [
       "⎡1   2   -1⎤\n",
       "⎢          ⎥\n",
       "⎢2   -1  -1⎥\n",
       "⎢          ⎥\n",
       "⎣-1  -1  3 ⎦"
      ]
     },
     "metadata": {},
     "output_type": "display_data"
    }
   ],
   "source": [
    "# Resetting A (in case of unordered use of cells)\n",
    "A = Matrix([\n",
    "    [1,2,-1],\n",
    "    [2,-1,-1],\n",
    "    [-1,-1,3]\n",
    "])\n",
    "\n",
    "display(A)"
   ]
  },
  {
   "cell_type": "code",
   "execution_count": 27,
   "metadata": {},
   "outputs": [
    {
     "data": {
      "text/latex": [
       "$\\displaystyle \\left[\\begin{matrix}1 & 2 & -1\\\\0 & -5 & 1\\\\-1 & -1 & 3\\end{matrix}\\right]$"
      ],
      "text/plain": [
       "⎡1   2   -1⎤\n",
       "⎢          ⎥\n",
       "⎢0   -5  1 ⎥\n",
       "⎢          ⎥\n",
       "⎣-1  -1  3 ⎦"
      ]
     },
     "metadata": {},
     "output_type": "display_data"
    }
   ],
   "source": [
    "# R1 = R1 - 2*R0                          .  < That dot is above the row number you're subtracting.\n",
    "A.row_op(1, lambda one, row_el: one - 2*A[0,row_el])\n",
    "#                                            ^ This is a varaible to allow sympy to iterate over all row elements\n",
    "display(A)"
   ]
  },
  {
   "cell_type": "code",
   "execution_count": 28,
   "metadata": {},
   "outputs": [
    {
     "data": {
      "text/latex": [
       "$\\displaystyle \\left[\\begin{matrix}1 & 2 & -1\\\\0 & -5 & 1\\\\0 & 1 & 2\\end{matrix}\\right]$"
      ],
      "text/plain": [
       "⎡1  2   -1⎤\n",
       "⎢         ⎥\n",
       "⎢0  -5  1 ⎥\n",
       "⎢         ⎥\n",
       "⎣0  1   2 ⎦"
      ]
     },
     "metadata": {},
     "output_type": "display_data"
    }
   ],
   "source": [
    "# R2 = R2 + R0\n",
    "A.row_op(2, lambda two, row_el: two + A[0,row_el])\n",
    "display(A)"
   ]
  },
  {
   "cell_type": "code",
   "execution_count": 29,
   "metadata": {},
   "outputs": [
    {
     "data": {
      "text/latex": [
       "$\\displaystyle \\left[\\begin{matrix}1 & 2 & -1\\\\0 & 1 & 2\\\\0 & -5 & 1\\end{matrix}\\right]$"
      ],
      "text/plain": [
       "⎡1  2   -1⎤\n",
       "⎢         ⎥\n",
       "⎢0  1   2 ⎥\n",
       "⎢         ⎥\n",
       "⎣0  -5  1 ⎦"
      ]
     },
     "metadata": {},
     "output_type": "display_data"
    }
   ],
   "source": [
    "# R1 <--> R2\n",
    "A.row_swap(1,2)\n",
    "display(A)"
   ]
  },
  {
   "cell_type": "code",
   "execution_count": 30,
   "metadata": {},
   "outputs": [
    {
     "data": {
      "text/latex": [
       "$\\displaystyle \\left[\\begin{matrix}1 & 2 & -1\\\\0 & 1 & 2\\\\0 & 0 & 11\\end{matrix}\\right]$"
      ],
      "text/plain": [
       "⎡1  2  -1⎤\n",
       "⎢        ⎥\n",
       "⎢0  1  2 ⎥\n",
       "⎢        ⎥\n",
       "⎣0  0  11⎦"
      ]
     },
     "metadata": {},
     "output_type": "display_data"
    }
   ],
   "source": [
    "# R2 = R2 + 5*R1\n",
    "A.row_op(2, lambda two, row_el: two + 5*A[1, row_el])\n",
    "display(A)"
   ]
  },
  {
   "cell_type": "code",
   "execution_count": 31,
   "metadata": {},
   "outputs": [
    {
     "data": {
      "text/latex": [
       "$\\displaystyle \\left[\\begin{matrix}1 & 2 & -1\\\\0 & 1 & 2\\\\0 & 0 & 1\\end{matrix}\\right]$"
      ],
      "text/plain": [
       "⎡1  2  -1⎤\n",
       "⎢        ⎥\n",
       "⎢0  1  2 ⎥\n",
       "⎢        ⎥\n",
       "⎣0  0  1 ⎦"
      ]
     },
     "metadata": {},
     "output_type": "display_data"
    }
   ],
   "source": [
    "# R2 = (1/11)*R2\n",
    "A.row_op(2, lambda two, row_el: int((1/11)*A[2,row_el]))\n",
    "display(A)"
   ]
  },
  {
   "cell_type": "code",
   "execution_count": 32,
   "metadata": {},
   "outputs": [
    {
     "data": {
      "text/latex": [
       "$\\displaystyle \\left[\\begin{matrix}1 & 2 & -1\\\\0 & 1 & 0\\\\0 & 0 & 1\\end{matrix}\\right]$"
      ],
      "text/plain": [
       "⎡1  2  -1⎤\n",
       "⎢        ⎥\n",
       "⎢0  1  0 ⎥\n",
       "⎢        ⎥\n",
       "⎣0  0  1 ⎦"
      ]
     },
     "metadata": {},
     "output_type": "display_data"
    }
   ],
   "source": [
    "# R1 = R1 - 2*R2\n",
    "A.row_op(1, lambda one, row_el: one - 2*A[2,row_el])\n",
    "display(A)"
   ]
  },
  {
   "cell_type": "code",
   "execution_count": 33,
   "metadata": {},
   "outputs": [
    {
     "data": {
      "text/latex": [
       "$\\displaystyle \\left[\\begin{matrix}1 & 2 & 0\\\\0 & 1 & 0\\\\0 & 0 & 1\\end{matrix}\\right]$"
      ],
      "text/plain": [
       "⎡1  2  0⎤\n",
       "⎢       ⎥\n",
       "⎢0  1  0⎥\n",
       "⎢       ⎥\n",
       "⎣0  0  1⎦"
      ]
     },
     "metadata": {},
     "output_type": "display_data"
    }
   ],
   "source": [
    "# R0 = R0 + R2\n",
    "A.row_op(0, lambda zero, row_el: zero+ A[2, row_el])\n",
    "display(A)"
   ]
  },
  {
   "cell_type": "code",
   "execution_count": 34,
   "metadata": {},
   "outputs": [
    {
     "data": {
      "text/latex": [
       "$\\displaystyle \\left[\\begin{matrix}1 & 0 & 0\\\\0 & 1 & 0\\\\0 & 0 & 1\\end{matrix}\\right]$"
      ],
      "text/plain": [
       "⎡1  0  0⎤\n",
       "⎢       ⎥\n",
       "⎢0  1  0⎥\n",
       "⎢       ⎥\n",
       "⎣0  0  1⎦"
      ]
     },
     "metadata": {},
     "output_type": "display_data"
    }
   ],
   "source": [
    "# R0 = R0 -2*R1\n",
    "A.row_op(0, lambda zero, row_el: zero -2*A[1, row_el])\n",
    "display(A)"
   ]
  },
  {
   "cell_type": "markdown",
   "metadata": {},
   "source": [
    "## Invert a Matrix to Solve \n",
    "$$\n",
    "\\mathbf{Ax}=\\mathbf{b} \\quad \\Rightarrow \\quad \n",
    "\\mathbf{x}=\\mathbf{A^{-1}b}\n",
    "$$"
   ]
  },
  {
   "cell_type": "code",
   "execution_count": 35,
   "metadata": {},
   "outputs": [
    {
     "data": {
      "text/latex": [
       "$\\displaystyle \\left[\\begin{matrix}4\\\\3\\\\5\\end{matrix}\\right]$"
      ],
      "text/plain": [
       "⎡4⎤\n",
       "⎢ ⎥\n",
       "⎢3⎥\n",
       "⎢ ⎥\n",
       "⎣5⎦"
      ]
     },
     "metadata": {},
     "output_type": "display_data"
    }
   ],
   "source": [
    "# Changing A\n",
    "A = Matrix([\n",
    "    [1,2,-1],\n",
    "    [2,-1,-1],\n",
    "    [-1,-1,3]\n",
    "])\n",
    "\n",
    "# Right-hand side of the equation\n",
    "b = Matrix([\n",
    "    5,\n",
    "    0,\n",
    "    8\n",
    "])\n",
    "\n",
    "# Solving the equation.\n",
    "x = A.inv()*b\n",
    "\n",
    "display(x)"
   ]
  },
  {
   "cell_type": "markdown",
   "metadata": {},
   "source": [
    "## Symbolic Matrices\n",
    "\n",
    "The useful thing about some calculations is specifying a value in your matrix so that some property is true.\n",
    "\n",
    "E.g.\n",
    "\n",
    "Determine the value of $c$ so that $\\mathbf{A}$ has a determinant of 0.\n",
    "\n",
    "$$\n",
    "\\mathbf{A} = \n",
    "\\begin{bmatrix}\n",
    "    c & 2 & 1 \\\\\n",
    "    5      & -1 & 2 \\\\\n",
    "    -3     & 1 & -1 \\\\\n",
    "\\end{bmatrix}\n",
    "$$"
   ]
  },
  {
   "cell_type": "code",
   "execution_count": 36,
   "metadata": {},
   "outputs": [
    {
     "data": {
      "text/plain": [
       "'A is: '"
      ]
     },
     "metadata": {},
     "output_type": "display_data"
    },
    {
     "data": {
      "text/latex": [
       "$\\displaystyle \\left[\\begin{matrix}c & 2 & 1\\\\5 & -1 & 2\\\\-3 & 1 & -1\\end{matrix}\\right]$"
      ],
      "text/plain": [
       "⎡c   2   1 ⎤\n",
       "⎢          ⎥\n",
       "⎢5   -1  2 ⎥\n",
       "⎢          ⎥\n",
       "⎣-3  1   -1⎦"
      ]
     },
     "metadata": {},
     "output_type": "display_data"
    },
    {
     "data": {
      "text/plain": [
       "'Det(A) = '"
      ]
     },
     "metadata": {},
     "output_type": "display_data"
    },
    {
     "data": {
      "image/png": "[encoded data removed]",
      "text/latex": [
       "$\\displaystyle - c$"
      ],
      "text/plain": [
       "-c"
      ]
     },
     "metadata": {},
     "output_type": "display_data"
    }
   ],
   "source": [
    "c = Symbol('c')\n",
    "\n",
    "A = Matrix([\n",
    "    [c,2,1],\n",
    "    [5,-1,2],\n",
    "    [-3,1,-1]\n",
    "])\n",
    "\n",
    "display('A is: ', A)\n",
    "\n",
    "\n",
    "display('Det(A) = ', A.det())"
   ]
  },
  {
   "cell_type": "markdown",
   "metadata": {},
   "source": [
    "So if:\n",
    "$$\\text{det}(\\mathbf{A}) = 0$$\n",
    "then $$-c=0 \\quad \\text{ and so } \\quad c=0$$ \n",
    "\n",
    "for the matrix to have a determinant of zero.\n",
    "\n",
    "A matrix with a zero determinant is called a 'singular' matrix."
   ]
  },
  {
   "cell_type": "markdown",
   "metadata": {},
   "source": [
    "## Eigenvalues & Eigenvectors\n",
    "\n",
    "An eigenvalue and eigenvector are solutions to the following equation:\n",
    "\n",
    "$$\n",
    "\\mathbf{Ax}\n",
    "=\n",
    "\\lambda\n",
    "\\mathbf{x}\n",
    "$$\n",
    "\n",
    "Where $\\lambda$ is an _eigen**value**_ and $\\mathbf{x}$ is an _eigen**vector**_.\n",
    "\n"
   ]
  },
  {
   "cell_type": "markdown",
   "metadata": {},
   "source": [
    "* The direction of an _eigen**vector**_ is unchanged, but its magnitude may not be.\n",
    "\n",
    "* So we can say that $\\mathbf{x}$ is a vector who's direction is unchanged by the linear transformation, $\\mathbf{A}$.\n",
    "\n",
    "* The _eigen**value**_ is how much the magnitude of the _eigen**vector**_ is changed."
   ]
  },
  {
   "cell_type": "markdown",
   "metadata": {},
   "source": [
    "The approach is to:\n",
    "\n",
    "1. Find the _eigen**values**_.\n",
    "2. Use each _eigen**value** to find one _eigen**vector**_."
   ]
  },
  {
   "cell_type": "markdown",
   "metadata": {},
   "source": [
    "### Eigenvalues"
   ]
  },
  {
   "cell_type": "code",
   "execution_count": 37,
   "metadata": {},
   "outputs": [
    {
     "name": "stdout",
     "output_type": "stream",
     "text": [
      "Type of object: \t<class 'dict'>\n"
     ]
    }
   ],
   "source": [
    "A = Matrix([\n",
    "    [1,2],\n",
    "    [2,4]\n",
    "])\n",
    "\n",
    "e_vals = A.eigenvals()\n",
    "\n",
    "print('Type of object: \\t' + str(type(e_vals)))"
   ]
  },
  {
   "cell_type": "markdown",
   "metadata": {},
   "source": [
    "So the `eigenval` method has returned us a `dictionary` object. So, what are the `keys` and `values`?"
   ]
  },
  {
   "cell_type": "code",
   "execution_count": 38,
   "metadata": {},
   "outputs": [
    {
     "data": {
      "text/plain": [
       "dict_keys([5, 0])"
      ]
     },
     "execution_count": 38,
     "metadata": {},
     "output_type": "execute_result"
    }
   ],
   "source": [
    "e_vals.keys()"
   ]
  },
  {
   "cell_type": "code",
   "execution_count": 39,
   "metadata": {},
   "outputs": [
    {
     "data": {
      "text/plain": [
       "dict_values([1, 1])"
      ]
     },
     "execution_count": 39,
     "metadata": {},
     "output_type": "execute_result"
    }
   ],
   "source": [
    "e_vals.values()"
   ]
  },
  {
   "cell_type": "code",
   "execution_count": 40,
   "metadata": {},
   "outputs": [
    {
     "data": {
      "image/png": "[encoded data removed]",
      "text/latex": [
       "$\\displaystyle \\left\\{ 0 : 1, \\  5 : 1\\right\\}$"
      ],
      "text/plain": [
       "{0: 1, 5: 1}"
      ]
     },
     "metadata": {},
     "output_type": "display_data"
    }
   ],
   "source": [
    "display(e_vals)"
   ]
  },
  {
   "cell_type": "markdown",
   "metadata": {},
   "source": [
    "The eigenvalues: $\\lambda_1 = 0$ and $\\lambda_2=5$ are the `keys` of the `dictionary`. The `values` in that `dictionary` are the 'multiplicity' of that eigenvalue, meaning how many times that eigenvalue occurred. For both values, their multiplicity is one."
   ]
  },
  {
   "cell_type": "markdown",
   "metadata": {},
   "source": [
    "### Eigenvectors"
   ]
  },
  {
   "cell_type": "code",
   "execution_count": 41,
   "metadata": {},
   "outputs": [
    {
     "data": {
      "text/latex": [
       "$\\displaystyle \\left[ \\left( 0, \\  1, \\  \\left[ \\left[\\begin{matrix}-2\\\\1\\end{matrix}\\right]\\right]\\right), \\  \\left( 5, \\  1, \\  \\left[ \\left[\\begin{matrix}\\frac{1}{2}\\\\1\\end{matrix}\\right]\\right]\\right)\\right]$"
      ],
      "text/plain": [
       "⎡⎛      ⎡⎡-2⎤⎤⎞  ⎛      ⎡⎡1/2⎤⎤⎞⎤\n",
       "⎢⎜0, 1, ⎢⎢  ⎥⎥⎟, ⎜5, 1, ⎢⎢   ⎥⎥⎟⎥\n",
       "⎣⎝      ⎣⎣1 ⎦⎦⎠  ⎝      ⎣⎣ 1 ⎦⎦⎠⎦"
      ]
     },
     "execution_count": 41,
     "metadata": {},
     "output_type": "execute_result"
    }
   ],
   "source": [
    "# Resetting A (in case of unordered cells).\n",
    "A = Matrix([\n",
    "    [1,2],\n",
    "    [2,4]\n",
    "])\n",
    "\n",
    "A.eigenvects()"
   ]
  },
  {
   "cell_type": "markdown",
   "metadata": {},
   "source": [
    "From the `eigenvects` method we are returned a `list` containing `tuples`.\n",
    "\n",
    "We also have the information we previously gathered (the eigenvalues) as well as the requested eigenvectors.\n",
    "\n",
    "Interpretting the first element of the `list`:\n",
    "\n",
    "The eigenvalue $\\lambda_1 = 0$ with multiplicity $1$ is used to obtain the vector $\\begin{bmatrix} -2 \\\\ 1 \\end{bmatrix}$.\n",
    "\n",
    "And interpretting the second value in the `list`:\n",
    "\n",
    "The eigenvalue $\\lambda_2 = 5$ with multiplicity $1$ is used to obtain the vector $\\begin{bmatrix} 1/2 \\\\ 1 \\end{bmatrix}$."
   ]
  },
  {
   "cell_type": "markdown",
   "metadata": {},
   "source": [
    "# -------- Questions --------"
   ]
  },
  {
   "cell_type": "markdown",
   "metadata": {},
   "source": [
    "# Question 0:\n",
    "\n",
    "Display the transpose of the following matrix:\n",
    "\n",
    "(Run the cell to obtain the matrix)\n"
   ]
  },
  {
   "cell_type": "code",
   "execution_count": null,
   "metadata": {},
   "outputs": [],
   "source": [
    "from sympy import init_printing, Matrix, eye, zeros, diag, Symbol, randMatrix\n",
    "init_printing()\n",
    "\n",
    "A = randMatrix(5,5)\n",
    "display(A)"
   ]
  },
  {
   "cell_type": "markdown",
   "metadata": {},
   "source": [
    "# Answer 0:\n"
   ]
  },
  {
   "cell_type": "code",
   "execution_count": 42,
   "metadata": {},
   "outputs": [
    {
     "data": {
      "text/latex": [
       "$\\displaystyle \\left[\\begin{matrix}1 & 2\\\\2 & 4\\end{matrix}\\right]$"
      ],
      "text/plain": [
       "⎡1  2⎤\n",
       "⎢    ⎥\n",
       "⎣2  4⎦"
      ]
     },
     "metadata": {},
     "output_type": "display_data"
    }
   ],
   "source": [
    "display(A.T)"
   ]
  },
  {
   "cell_type": "markdown",
   "metadata": {},
   "source": [
    "## Question 1:\n",
    "\n",
    "If you have a matrix:"
   ]
  },
  {
   "cell_type": "code",
   "execution_count": 70,
   "metadata": {},
   "outputs": [
    {
     "data": {
      "text/latex": [
       "$\\displaystyle \\left[\\begin{matrix}47 & 53 & 78\\\\72 & 52 & 64\\\\60 & 21 & 62\\end{matrix}\\right]$"
      ],
      "text/plain": [
       "⎡47  53  78⎤\n",
       "⎢          ⎥\n",
       "⎢72  52  64⎥\n",
       "⎢          ⎥\n",
       "⎣60  21  62⎦"
      ]
     },
     "metadata": {},
     "output_type": "display_data"
    }
   ],
   "source": [
    "A = randMatrix(3,3)\n",
    "display(A)"
   ]
  },
  {
   "cell_type": "markdown",
   "metadata": {},
   "source": [
    "Find the `rref` and determine if it has an inverse."
   ]
  },
  {
   "cell_type": "markdown",
   "metadata": {},
   "source": [
    "## Answer 1:"
   ]
  },
  {
   "cell_type": "code",
   "execution_count": 71,
   "metadata": {},
   "outputs": [
    {
     "data": {
      "text/latex": [
       "$\\displaystyle \\left( \\left[\\begin{matrix}1 & 0 & 0\\\\0 & 1 & 0\\\\0 & 0 & 1\\end{matrix}\\right], \\  \\left( 0, \\  1, \\  2\\right)\\right)$"
      ],
      "text/plain": [
       "⎛⎡1  0  0⎤           ⎞\n",
       "⎜⎢       ⎥           ⎟\n",
       "⎜⎢0  1  0⎥, (0, 1, 2)⎟\n",
       "⎜⎢       ⎥           ⎟\n",
       "⎝⎣0  0  1⎦           ⎠"
      ]
     },
     "metadata": {},
     "output_type": "display_data"
    },
    {
     "data": {
      "text/latex": [
       "$\\displaystyle \\left[\\begin{matrix}1 & 0 & 0\\\\0 & 1 & 0\\\\0 & 0 & 1\\end{matrix}\\right]$"
      ],
      "text/plain": [
       "⎡1  0  0⎤\n",
       "⎢       ⎥\n",
       "⎢0  1  0⎥\n",
       "⎢       ⎥\n",
       "⎣0  0  1⎦"
      ]
     },
     "execution_count": 71,
     "metadata": {},
     "output_type": "execute_result"
    }
   ],
   "source": [
    "B = A.rref()\n",
    "\n",
    "display(B)\n",
    "\n",
    "B[0].inv()"
   ]
  },
  {
   "cell_type": "markdown",
   "metadata": {},
   "source": [
    "## Question 2:\n",
    "\n",
    "\n",
    "$$\n",
    "    \\begin{bmatrix} \n",
    "        4 & 3 \\\\\n",
    "\t\t-10 & -2 \\\\\t\t\n",
    "    \\end{bmatrix}\n",
    "    \\begin{bmatrix} \n",
    "        x \\\\\n",
    "\t\ty \\\\\t\t\n",
    "    \\end{bmatrix}\n",
    "    =\n",
    "    \\begin{bmatrix} \n",
    "        -13 \\\\\n",
    "        5 \\\\\n",
    "    \\end{bmatrix}\n",
    "$$\n",
    "\n",
    "Solve for $x$ and $y$."
   ]
  },
  {
   "cell_type": "markdown",
   "metadata": {},
   "source": [
    "## Answer 2:"
   ]
  },
  {
   "cell_type": "code",
   "execution_count": 49,
   "metadata": {},
   "outputs": [
    {
     "data": {
      "text/latex": [
       "$\\displaystyle \\left[\\begin{matrix}\\frac{1}{2}\\\\-5\\end{matrix}\\right]$"
      ],
      "text/plain": [
       "⎡1/2⎤\n",
       "⎢   ⎥\n",
       "⎣-5 ⎦"
      ]
     },
     "metadata": {},
     "output_type": "display_data"
    }
   ],
   "source": [
    "# Changing A\n",
    "A = Matrix([\n",
    "    [4,3],\n",
    "    [-10,-2],\n",
    "])\n",
    "\n",
    "b = Matrix([\n",
    "    -13,\n",
    "    5,\n",
    "])\n",
    "x = A.inv()*b\n",
    "\n",
    "display(x)"
   ]
  },
  {
   "cell_type": "markdown",
   "metadata": {},
   "source": [
    "## Question 3:\n",
    "\n",
    "Determine the eigenvalues and eigenvectors of:\n",
    "\n",
    "$$\n",
    "\\mathbf{Q}\n",
    "=\n",
    "\\begin{bmatrix}\n",
    "0 & 1 \\\\\n",
    "-1 & 0 \\\\\n",
    "\\end{bmatrix}\n",
    "$$"
   ]
  },
  {
   "cell_type": "markdown",
   "metadata": {},
   "source": [
    "## Answer 3:"
   ]
  },
  {
   "cell_type": "code",
   "execution_count": 50,
   "metadata": {},
   "outputs": [
    {
     "data": {
      "text/latex": [
       "$\\displaystyle \\left[ \\left( - i, \\  1, \\  \\left[ \\left[\\begin{matrix}i\\\\1\\end{matrix}\\right]\\right]\\right), \\  \\left( i, \\  1, \\  \\left[ \\left[\\begin{matrix}- i\\\\1\\end{matrix}\\right]\\right]\\right)\\right]$"
      ],
      "text/plain": [
       "⎡⎛       ⎡⎡ⅈ⎤⎤⎞  ⎛      ⎡⎡-ⅈ⎤⎤⎞⎤\n",
       "⎢⎜-ⅈ, 1, ⎢⎢ ⎥⎥⎟, ⎜ⅈ, 1, ⎢⎢  ⎥⎥⎟⎥\n",
       "⎣⎝       ⎣⎣1⎦⎦⎠  ⎝      ⎣⎣1 ⎦⎦⎠⎦"
      ]
     },
     "execution_count": 50,
     "metadata": {},
     "output_type": "execute_result"
    }
   ],
   "source": [
    "Q = Matrix([\n",
    "    [0,1],\n",
    "    [-1,0]\n",
    "])\n",
    "\n",
    "Q.eigenvects()"
   ]
  },
  {
   "cell_type": "markdown",
   "metadata": {},
   "source": [
    "# Question 4:\n",
    "\n",
    "Show, using `if` statements and comparisons, that the following matrix is equal itself after being multiplied by an appropriately sized identity matrix.\n",
    "\n",
    "# Answer 4:\n"
   ]
  },
  {
   "cell_type": "code",
   "execution_count": 55,
   "metadata": {},
   "outputs": [
    {
     "data": {
      "text/latex": [
       "$\\displaystyle \\left[\\begin{matrix}91 & 60 & 87 & 2 & 19 & 7\\\\80 & 93 & 16 & 66 & 12 & 35\\\\38 & 57 & 53 & 50 & 45 & 47\\\\86 & 41 & 69 & 58 & 46 & 6\\\\66 & 97 & 56 & 25 & 74 & 67\\\\99 & 82 & 70 & 91 & 0 & 76\\end{matrix}\\right]$"
      ],
      "text/plain": [
       "⎡91  60  87  2   19  7 ⎤\n",
       "⎢                      ⎥\n",
       "⎢80  93  16  66  12  35⎥\n",
       "⎢                      ⎥\n",
       "⎢38  57  53  50  45  47⎥\n",
       "⎢                      ⎥\n",
       "⎢86  41  69  58  46  6 ⎥\n",
       "⎢                      ⎥\n",
       "⎢66  97  56  25  74  67⎥\n",
       "⎢                      ⎥\n",
       "⎣99  82  70  91  0   76⎦"
      ]
     },
     "metadata": {},
     "output_type": "display_data"
    },
    {
     "name": "stdout",
     "output_type": "stream",
     "text": [
      "Multiplying a matrix by the identity matrix produces the original matrix.\n"
     ]
    }
   ],
   "source": [
    "from sympy import randMatrix\n",
    "\n",
    "A = randMatrix(6,6)\n",
    "display(A)\n",
    "\n",
    "# Your code here\n",
    "if (eye(6) * A) == A:\n",
    "    print(\"Multiplying a matrix by the identity matrix produces the original matrix.\")\n",
    "else:\n",
    "    print(\"Something is wrong.\")"
   ]
  },
  {
   "cell_type": "markdown",
   "metadata": {},
   "source": [
    "# Question 5:\n",
    "\n",
    "(i) Write a loop to create five square, random matrices. Determine if each of them have an inverse.\n",
    "\n",
    "(ii) Write another loop to create five rectangular, random matrices. Should these have an inverse? What happens when you attempt to invert them?\n",
    "\n",
    "What can we say about the `randMatrix` function?"
   ]
  },
  {
   "cell_type": "code",
   "execution_count": 80,
   "metadata": {},
   "outputs": [
    {
     "data": {
      "text/latex": [
       "$\\displaystyle \\left[\\begin{matrix}65\\end{matrix}\\right]$"
      ],
      "text/plain": [
       "[65]"
      ]
     },
     "metadata": {},
     "output_type": "display_data"
    },
    {
     "name": "stdout",
     "output_type": "stream",
     "text": [
      "Does this matrix have an inverse?\n",
      "Yes. The inverse is:\n"
     ]
    },
    {
     "data": {
      "text/latex": [
       "$\\displaystyle \\left[\\begin{matrix}\\frac{1}{65}\\end{matrix}\\right]$"
      ],
      "text/plain": [
       "[1/65]"
      ]
     },
     "metadata": {},
     "output_type": "display_data"
    },
    {
     "data": {
      "text/latex": [
       "$\\displaystyle \\left[\\begin{matrix}38 & 25\\\\44 & 9\\end{matrix}\\right]$"
      ],
      "text/plain": [
       "⎡38  25⎤\n",
       "⎢      ⎥\n",
       "⎣44  9 ⎦"
      ]
     },
     "metadata": {},
     "output_type": "display_data"
    },
    {
     "name": "stdout",
     "output_type": "stream",
     "text": [
      "Does this matrix have an inverse?\n",
      "Yes. The inverse is:\n"
     ]
    },
    {
     "data": {
      "text/latex": [
       "$\\displaystyle \\left[\\begin{matrix}- \\frac{9}{758} & \\frac{25}{758}\\\\\\frac{22}{379} & - \\frac{19}{379}\\end{matrix}\\right]$"
      ],
      "text/plain": [
       "⎡         25 ⎤\n",
       "⎢-9/758  ─── ⎥\n",
       "⎢        758 ⎥\n",
       "⎢            ⎥\n",
       "⎢  22    -19 ⎥\n",
       "⎢ ───    ────⎥\n",
       "⎣ 379    379 ⎦"
      ]
     },
     "metadata": {},
     "output_type": "display_data"
    },
    {
     "data": {
      "text/latex": [
       "$\\displaystyle \\left[\\begin{matrix}51 & 11 & 32\\\\54 & 7 & 71\\\\64 & 59 & 13\\end{matrix}\\right]$"
      ],
      "text/plain": [
       "⎡51  11  32⎤\n",
       "⎢          ⎥\n",
       "⎢54  7   71⎥\n",
       "⎢          ⎥\n",
       "⎣64  59  13⎦"
      ]
     },
     "metadata": {},
     "output_type": "display_data"
    },
    {
     "name": "stdout",
     "output_type": "stream",
     "text": [
      "Does this matrix have an inverse?\n",
      "Yes. The inverse is:\n"
     ]
    },
    {
     "data": {
      "text/latex": [
       "$\\displaystyle \\left[\\begin{matrix}\\frac{2049}{39560} & - \\frac{349}{15824} & - \\frac{557}{79120}\\\\- \\frac{1921}{39560} & \\frac{277}{15824} & \\frac{1893}{79120}\\\\- \\frac{1369}{39560} & \\frac{461}{15824} & \\frac{237}{79120}\\end{matrix}\\right]$"
      ],
      "text/plain": [
       "⎡ 2049   -349   -557 ⎤\n",
       "⎢─────   ─────  ─────⎥\n",
       "⎢39560   15824  79120⎥\n",
       "⎢                    ⎥\n",
       "⎢-1921    277    1893⎥\n",
       "⎢──────  ─────  ─────⎥\n",
       "⎢39560   15824  79120⎥\n",
       "⎢                    ⎥\n",
       "⎢-1369    461    237 ⎥\n",
       "⎢──────  ─────  ─────⎥\n",
       "⎣39560   15824  79120⎦"
      ]
     },
     "metadata": {},
     "output_type": "display_data"
    },
    {
     "data": {
      "text/latex": [
       "$\\displaystyle \\left[\\begin{matrix}97 & 98 & 78 & 26\\\\27 & 24 & 83 & 54\\\\21 & 98 & 43 & 42\\\\80 & 45 & 64 & 82\\end{matrix}\\right]$"
      ],
      "text/plain": [
       "⎡97  98  78  26⎤\n",
       "⎢              ⎥\n",
       "⎢27  24  83  54⎥\n",
       "⎢              ⎥\n",
       "⎢21  98  43  42⎥\n",
       "⎢              ⎥\n",
       "⎣80  45  64  82⎦"
      ]
     },
     "metadata": {},
     "output_type": "display_data"
    },
    {
     "name": "stdout",
     "output_type": "stream",
     "text": [
      "Does this matrix have an inverse?\n",
      "Yes. The inverse is:\n"
     ]
    },
    {
     "data": {
      "text/latex": [
       "$\\displaystyle \\left[\\begin{matrix}\\frac{63952}{7941795} & - \\frac{47417}{5294530} & - \\frac{153581}{15883590} & \\frac{65893}{7941795}\\\\\\frac{3783}{2647265} & - \\frac{25759}{5294530} & \\frac{60251}{5294530} & - \\frac{8148}{2647265}\\\\\\frac{13923}{2647265} & \\frac{48118}{2647265} & - \\frac{11937}{2647265} & - \\frac{29988}{2647265}\\\\- \\frac{202441}{15883590} & - \\frac{29429}{10589060} & \\frac{213083}{31767180} & \\frac{232391}{15883590}\\end{matrix}\\right]$"
      ],
      "text/plain": [
       "⎡ 63952    -47417    -153581    65893  ⎤\n",
       "⎢───────   ───────   ────────  ─────── ⎥\n",
       "⎢7941795   5294530   15883590  7941795 ⎥\n",
       "⎢                                      ⎥\n",
       "⎢  3783    -25759     60251     -8148  ⎥\n",
       "⎢───────   ───────   ───────   ─────── ⎥\n",
       "⎢2647265   5294530   5294530   2647265 ⎥\n",
       "⎢                                      ⎥\n",
       "⎢ 13923     48118    -11937    -29988  ⎥\n",
       "⎢───────   ───────   ───────   ─────── ⎥\n",
       "⎢2647265   2647265   2647265   2647265 ⎥\n",
       "⎢                                      ⎥\n",
       "⎢-202441   -29429     213083    232391 ⎥\n",
       "⎢────────  ────────  ────────  ────────⎥\n",
       "⎣15883590  10589060  31767180  15883590⎦"
      ]
     },
     "metadata": {},
     "output_type": "display_data"
    },
    {
     "data": {
      "text/latex": [
       "$\\displaystyle \\left[\\begin{matrix}88 & 24 & 41 & 11 & 63\\\\80 & 36 & 97 & 19 & 55\\\\3 & 61 & 72 & 56 & 25\\\\39 & 33 & 42 & 26 & 95\\\\94 & 71 & 6 & 45 & 33\\end{matrix}\\right]$"
      ],
      "text/plain": [
       "⎡88  24  41  11  63⎤\n",
       "⎢                  ⎥\n",
       "⎢80  36  97  19  55⎥\n",
       "⎢                  ⎥\n",
       "⎢3   61  72  56  25⎥\n",
       "⎢                  ⎥\n",
       "⎢39  33  42  26  95⎥\n",
       "⎢                  ⎥\n",
       "⎣94  71  6   45  33⎦"
      ]
     },
     "metadata": {},
     "output_type": "display_data"
    },
    {
     "name": "stdout",
     "output_type": "stream",
     "text": [
      "Does this matrix have an inverse?\n",
      "Yes. The inverse is:\n"
     ]
    },
    {
     "data": {
      "text/latex": [
       "$\\displaystyle \\left[\\begin{matrix}\\frac{2470639}{56717584} & - \\frac{55907}{2985136} & \\frac{679759}{56717584} & - \\frac{1069051}{56717584} & - \\frac{13703}{2025628}\\\\- \\frac{5194831}{28358792} & \\frac{155063}{1492568} & - \\frac{2151217}{28358792} & \\frac{1709605}{28358792} & \\frac{61257}{1012814}\\\\- \\frac{10532}{3544849} & \\frac{4225}{373142} & \\frac{39205}{14179396} & - \\frac{48057}{14179396} & - \\frac{2804}{506407}\\\\\\frac{55651}{271376} & - \\frac{34565}{271376} & \\frac{26979}{271376} & - \\frac{18479}{271376} & - \\frac{567}{9692}\\\\- \\frac{513959}{56717584} & \\frac{4339}{2985136} & - \\frac{397059}{56717584} & \\frac{990159}{56717584} & \\frac{459}{2025628}\\end{matrix}\\right]$"
      ],
      "text/plain": [
       "⎡2470639    -55907    679759    -1069051   -13703 ⎤\n",
       "⎢────────   ───────  ────────   ─────────  ───────⎥\n",
       "⎢56717584   2985136  56717584    56717584  2025628⎥\n",
       "⎢                                                 ⎥\n",
       "⎢-5194831    155063  -2151217   1709605     61257 ⎥\n",
       "⎢─────────  ───────  ─────────  ────────   ───────⎥\n",
       "⎢ 28358792  1492568   28358792  28358792   1012814⎥\n",
       "⎢                                                 ⎥\n",
       "⎢ -10532     4225     39205     -48057     -2804  ⎥\n",
       "⎢ ───────   ──────   ────────   ────────   ────── ⎥\n",
       "⎢ 3544849   373142   14179396   14179396   506407 ⎥\n",
       "⎢                                                 ⎥\n",
       "⎢ 55651     -34565    26979      -18479     -567  ⎥\n",
       "⎢ ──────    ───────   ──────     ───────    ───── ⎥\n",
       "⎢ 271376     271376   271376      271376     9692 ⎥\n",
       "⎢                                                 ⎥\n",
       "⎢-513959      4339   -397059     990159      459  ⎥\n",
       "⎢────────   ───────  ────────   ────────   ───────⎥\n",
       "⎣56717584   2985136  56717584   56717584   2025628⎦"
      ]
     },
     "metadata": {},
     "output_type": "display_data"
    },
    {
     "name": "stdout",
     "output_type": "stream",
     "text": [
      "Some rectangular matrices\n"
     ]
    },
    {
     "data": {
      "text/latex": [
       "$\\displaystyle \\left[\\begin{matrix}3 & 4\\end{matrix}\\right]$"
      ],
      "text/plain": [
       "[3  4]"
      ]
     },
     "metadata": {},
     "output_type": "display_data"
    },
    {
     "name": "stdout",
     "output_type": "stream",
     "text": [
      "Couldn't inverse rectangular matrix. Got a <class 'sympy.matrices.common.NonSquareMatrixError'> exception\n",
      "Couldn't inverse rectangular matrix. Got a <class 'sympy.matrices.common.NonSquareMatrixError'> exception\n",
      "Couldn't inverse rectangular matrix. Got a <class 'sympy.matrices.common.NonSquareMatrixError'> exception\n",
      "Couldn't inverse rectangular matrix. Got a <class 'sympy.matrices.common.NonSquareMatrixError'> exception\n",
      "Couldn't inverse rectangular matrix. Got a <class 'sympy.matrices.common.NonSquareMatrixError'> exception\n"
     ]
    }
   ],
   "source": [
    "some_rand_matrices = []\n",
    "for i in range(5):\n",
    "    some_rand_matrices.append(randMatrix(i+1,i+1))\n",
    "    \n",
    "for m in some_rand_matrices:\n",
    "    display(m)\n",
    "    print(\"Does this matrix have an inverse?\")\n",
    "    try:\n",
    "        inverse = m.inv()\n",
    "        print(\"Yes. The inverse is:\")\n",
    "        display(inverse)\n",
    "    except ValueError:\n",
    "        print(\"No. determinant is zero.\")\n",
    "        \n",
    "print(\"Some rectangular matrices\")\n",
    "    \n",
    "some_rand_rectangular_matrices = []\n",
    "for i in range(5):\n",
    "    some_rand_rectangular_matrices.append(randMatrix(i+1,i+2))\n",
    "    \n",
    "display(some_rand_rectangular_matrices[0])\n",
    "\n",
    "for rect_m in some_rand_rectangular_matrices:\n",
    "    try:\n",
    "        rect_m.inv()\n",
    "    except Exception as e:\n",
    "        print(f\"Couldn't inverse rectangular matrix. Got a {type(e)} exception\")"
   ]
  },
  {
   "cell_type": "markdown",
   "metadata": {},
   "source": [
    "## Bonus Question :\n",
    "\n",
    "What is meant by a 'pivot'?"
   ]
  },
  {
   "cell_type": "code",
   "execution_count": null,
   "metadata": {},
   "outputs": [],
   "source": []
  }
 ],
 "metadata": {
  "kernelspec": {
   "display_name": "Python 3",
   "language": "python",
   "name": "python3"
  },
  "language_info": {
   "codemirror_mode": {
    "name": "ipython",
    "version": 3
   },
   "file_extension": ".py",
   "mimetype": "text/x-python",
   "name": "python",
   "nbconvert_exporter": "python",
   "pygments_lexer": "ipython3",
   "version": "3.7.7"
  }
 },
 "nbformat": 4,
 "nbformat_minor": 2
}
